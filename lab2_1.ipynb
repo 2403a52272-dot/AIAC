{
  "nbformat": 4,
  "nbformat_minor": 0,
  "metadata": {
    "colab": {
      "provenance": [],
      "authorship_tag": "ABX9TyNbW2exrlsy0a5qwNknAPAC",
      "include_colab_link": true
    },
    "kernelspec": {
      "name": "python3",
      "display_name": "Python 3"
    },
    "language_info": {
      "name": "python"
    }
  },
  "cells": [
    {
      "cell_type": "markdown",
      "metadata": {
        "id": "view-in-github",
        "colab_type": "text"
      },
      "source": [
        "<a href=\"https://colab.research.google.com/github/2403a52272-dot/AIAC/blob/main/lab2_1.ipynb\" target=\"_parent\"><img src=\"https://colab.research.google.com/assets/colab-badge.svg\" alt=\"Open In Colab\"/></a>"
      ]
    },
    {
      "cell_type": "markdown",
      "source": [
        "task1 : Task Description #1\n",
        "●\tUse Google Gemini in Colab to write a Python function that reads a list of numbers and calculates the mean, minimum, and maximum values.\n",
        "Expected Output #1\n",
        "●\tFunctional code with correct output and screenshot\n",
        "prompt : Python function that reads a list of numbers and calculates the mean, minimum, and maximum values"
      ],
      "metadata": {
        "id": "xEN-NXO9716b"
      }
    },
    {
      "cell_type": "code",
      "source": [
        "def calculate_stats(numbers):\n",
        "  \"\"\"\n",
        "  Calculates the mean, minimum, and maximum values of a list of numbers.\n",
        "\n",
        "  Args:\n",
        "    numbers: A list of numbers.\n",
        "\n",
        "  Returns:\n",
        "    A tuple containing the mean, minimum, and maximum values.\n",
        "  \"\"\"\n",
        "  if not numbers:\n",
        "    return None, None, None  # Handle empty list case\n",
        "\n",
        "  mean = sum(numbers) / len(numbers)\n",
        "  minimum = min(numbers)\n",
        "  maximum = max(numbers)\n",
        "\n",
        "  return mean, minimum, maximum\n",
        "\n",
        "# Example usage:\n",
        "my_list = [10, 20, 30, 40, 50]\n",
        "mean_val, min_val, max_val = calculate_stats(my_list)\n",
        "\n",
        "print(f\"List: {my_list}\")\n",
        "print(f\"Mean: {mean_val}\")\n",
        "print(f\"Minimum: {min_val}\")\n",
        "print(f\"Maximum: {max_val}\")"
      ],
      "metadata": {
        "colab": {
          "base_uri": "https://localhost:8080/"
        },
        "id": "3t5JTfVcewH-",
        "outputId": "f5e9eda5-4f6a-40c4-ec6f-05ff4ba5742e"
      },
      "execution_count": null,
      "outputs": [
        {
          "output_type": "stream",
          "name": "stdout",
          "text": [
            "List: [10, 20, 30, 40, 50]\n",
            "Mean: 30.0\n",
            "Minimum: 10\n",
            "Maximum: 50\n"
          ]
        }
      ]
    },
    {
      "cell_type": "markdown",
      "source": [
        "**explation**:This code defines a Python function called calculate_stats that takes a list of numbers as input.\n",
        "\n",
        "Here's a breakdown of what the code does:\n",
        "\n",
        "def calculate_stats(numbers):: This line defines the function named calculate_stats and specifies that it accepts one argument, numbers, which is expected to be a list.\n",
        "Docstring: The triple-quoted string below the function definition is a docstring. It explains what the function does, its arguments (Args), and what it returns (Returns). This is good practice for documenting code.\n",
        "if not numbers:: This checks if the input list numbers is empty. If it is empty, the function returns None for mean, minimum, and maximum to avoid errors.\n",
        "mean = sum(numbers) / len(numbers): If the list is not empty, this line calculates the mean (average) of the numbers by summing them using sum() and dividing by the number of elements in the list using len().\n",
        "minimum = min(numbers): This line finds the minimum value in the list using the built-in min() function.\n",
        "maximum = max(numbers): This line finds the maximum value in the list using the built-in max() function.\n",
        "return mean, minimum, maximum: The function returns the calculated mean, minimum, and maximum values as a tuple.\n",
        "Example Usage: The lines below the function definition show how to use the calculate_stats function.\n",
        "my_list = [10, 20, 30, 40, 50] creates a sample list.\n",
        "mean_val, min_val, max_val = calculate_stats(my_list) calls the function with my_list and unpacks the returned tuple into three variables.\n",
        "The print() statements display the original list and the calculated mean, minimum, and maximum values.\n",
        "In summary, this code provides a reusable function to quickly get the central tendency (mean) and range (minimum and maximum) of a list of numbers.\n",
        "\n"
      ],
      "metadata": {
        "id": "z1j3yY_rek44"
      }
    },
    {
      "cell_type": "markdown",
      "source": [
        "Task Description #2\n",
        "●\tCompare Gemini and Copilot outputs for a Python function that checks whether a number is an Armstrong number. Document the steps, prompts, and outputs.\n",
        "Expected Output #2\n",
        "●\tSide-by-side comparison table with observations and screenshots.\n",
        "prompt : Python function that checks whether a number is an Armstrong number. Document the steps, prompts, and outputs"
      ],
      "metadata": {
        "id": "34FWsIYYfhM_"
      }
    },
    {
      "cell_type": "code",
      "source": [
        "def is_armstrong_number(number):\n",
        "  \"\"\"\n",
        "  Checks if a number is an Armstrong number.\n",
        "\n",
        "  An Armstrong number (also known as a narcissistic number, pluperfect digital\n",
        "  invariant (PPDI), or plus perfect number) is a number that is the sum of\n",
        "  its own digits each raised to the power of the number of digits.\n",
        "\n",
        "  Args:\n",
        "    number: An integer.\n",
        "\n",
        "  Returns:\n",
        "    True if the number is an Armstrong number, False otherwise.\n",
        "  \"\"\"\n",
        "  # Convert the number to a string to get the number of digits\n",
        "  num_str = str(number)\n",
        "  num_digits = len(num_str)\n",
        "\n",
        "  # Calculate the sum of each digit raised to the power of the number of digits\n",
        "  armstrong_sum = 0\n",
        "  for digit in num_str:\n",
        "    armstrong_sum += int(digit) ** num_digits\n",
        "\n",
        "  # Check if the sum is equal to the original number\n",
        "  return armstrong_sum == number\n",
        "\n",
        "# Example usage:\n",
        "num1 = 153\n",
        "num2 = 123\n",
        "\n",
        "print(f\"{num1} is an Armstrong number: {is_armstrong_number(num1)}\")\n",
        "print(f\"{num2} is an Armstrong number: {is_armstrong_number(num2)}\")"
      ],
      "metadata": {
        "colab": {
          "base_uri": "https://localhost:8080/"
        },
        "id": "xoUn_1xcgx-8",
        "outputId": "59a80882-9d03-4e3c-a38c-6efc98d93ba3"
      },
      "execution_count": null,
      "outputs": [
        {
          "output_type": "stream",
          "name": "stdout",
          "text": [
            "153 is an Armstrong number: True\n",
            "123 is an Armstrong number: False\n"
          ]
        }
      ]
    },
    {
      "cell_type": "markdown",
      "source": [
        "![image.png](data:image/png;base64,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)"
      ],
      "metadata": {
        "id": "nOMwDWPw-gh-"
      }
    },
    {
      "cell_type": "markdown",
      "source": [
        "![image.png](data:image/png;base64,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)"
      ],
      "metadata": {
        "id": "sD-Vit8I-w93"
      }
    },
    {
      "cell_type": "markdown",
      "source": [
        "explation:The selected code defines a Python function called is_armstrong_number that checks if a given integer is an Armstrong number.\n",
        "\n",
        "Here's a breakdown of the code:\n",
        "\n",
        "def is_armstrong_number(number):: This line defines the function is_armstrong_number which takes one argument, number.\n",
        "Docstring: The multiline string within triple quotes is a docstring explaining the purpose of the function, the definition of an Armstrong number, its arguments (Args), and what it returns (Returns).\n",
        "num_str = str(number): The input number is converted to a string (num_str) to easily access its digits and determine the number of digits.\n",
        "num_digits = len(num_str): The length of the string representation of the number is calculated, which gives the number of digits (num_digits).\n",
        "armstrong_sum = 0: A variable armstrong_sum is initialized to 0 to store the sum of the digits raised to the power of the number of digits.\n",
        "for digit in num_str:: This loop iterates through each character (digit) in the num_str.\n",
        "armstrong_sum += int(digit) ** num_digits: Inside the loop, each digit (which is a string character) is converted back to an integer using int(digit), raised to the power of num_digits, and then added to armstrong_sum.\n",
        "return armstrong_sum == number: After the loop finishes, the function compares the calculated armstrong_sum with the original number. If they are equal, the function returns True, indicating that the number is an Armstrong number; otherwise, it returns False.\n",
        "The example usage section demonstrates how to call the function with two numbers (num1 = 153 and num2 = 123) and prints whether each number is an Armstrong number.\n",
        "\n"
      ],
      "metadata": {
        "id": "wYDdiYyzg84R"
      }
    },
    {
      "cell_type": "markdown",
      "source": [
        "task 3: Task Description #3\n",
        "●\tAsk Gemini to explain a Python function (e.g., is_prime(n) or is_palindrome(s)) line by line.\n",
        "●\tChoose either a prime-checking or palindrome-checking function and document the explanation provided by Gemini.\n",
        "Expected Output #3\n",
        "●\tDetailed explanation with the code snippet and Gemini’s response.\n",
        "prompt : Python function (e.g., is_prime(n) or is_palindrome(s)) line by line.\n",
        "●\tChoose either a prime-checking or palindrome-checking function and document"
      ],
      "metadata": {
        "id": "wmuEB5UThY5M"
      }
    },
    {
      "cell_type": "code",
      "source": [
        "def is_prime(n):\n",
        "  \"\"\"\n",
        "  Checks if a number is prime.\n",
        "\n",
        "  A prime number is a natural number greater than 1 that has no positive\n",
        "  divisors other than 1 and itself.\n",
        "\n",
        "  Args:\n",
        "    n: An integer.\n",
        "\n",
        "  Returns:\n",
        "    True if the number is prime, False otherwise.\n",
        "  \"\"\"\n",
        "  if n <= 1:\n",
        "    return False  # Numbers less than or equal to 1 are not prime\n",
        "  if n <= 3:\n",
        "    return True   # 2 and 3 are prime numbers\n",
        "  if n % 2 == 0 or n % 3 == 0:\n",
        "    return False  # Eliminate multiples of 2 and 3\n",
        "\n",
        "  # Check for prime numbers from 5 onwards\n",
        "  i = 5\n",
        "  while i * i <= n:\n",
        "    if n % i == 0 or n % (i + 2) == 0:\n",
        "      return False\n",
        "    i += 6\n",
        "\n",
        "  return True\n",
        "\n",
        "# Example usage:\n",
        "num = 17\n",
        "print(f\"{num} is prime: {is_prime(num)}\")\n",
        "\n",
        "num = 15\n",
        "print(f\"{num} is prime: {is_prime(num)}\")"
      ],
      "metadata": {
        "colab": {
          "base_uri": "https://localhost:8080/"
        },
        "id": "P46QneGRhxQV",
        "outputId": "8dc8c4f7-9268-4cfa-b2ab-a1876f138d03"
      },
      "execution_count": null,
      "outputs": [
        {
          "output_type": "stream",
          "name": "stdout",
          "text": [
            "17 is prime: True\n",
            "15 is prime: False\n"
          ]
        }
      ]
    },
    {
      "cell_type": "markdown",
      "source": [
        "explation:def is_prime(n):: This line defines a function named is_prime that takes one argument, n.\n",
        "\"\"\" ... \"\"\": This is a docstring that explains the purpose of the function, the definition of a prime number, its arguments, and what it returns.\n",
        "if n <= 1:: This is the first conditional check. Prime numbers are natural numbers greater than 1, so if n is less than or equal to 1, the function immediately returns False.\n",
        "return False # Numbers less than or equal to 1 are not prime: If the condition n <= 1 is true, the function returns False and the comment explains why.\n",
        "if n <= 3:: This checks if the number is 2 or 3. These are prime numbers.\n",
        "return True # 2 and 3 are prime numbers: If the condition n <= 3 is true (and the previous condition was false, so n is 2 or 3), the function returns True.\n",
        "if n % 2 == 0 or n % 3 == 0:: This checks if the number is divisible by 2 or 3. If it is, it's not prime (except for 2 and 3 themselves, which are handled by the previous condition).\n",
        "return False # Eliminate multiples of 2 and 3: If the number is divisible by 2 or 3, the function returns False.\n",
        "# Check for prime numbers from 5 onwards: This is a comment indicating the next part of the code checks for divisibility by other potential factors.\n",
        "i = 5: Initializes a variable i to 5. This variable will be used to check for divisibility by numbers of the form 6k ± 1, which is an optimization for prime checking.\n",
        "while i * i <= n:: This loop continues as long as i * i is less than or equal to n. We only need to check for divisors up to the square root of n because if n has a divisor greater than its square root, it must also have a divisor less than its square root.\n",
        "if n % i == 0 or n % (i + 2) == 0:: Inside the loop, this condition checks if n is divisible by i or i + 2. This is part of the optimization: all primes greater than 3 can be expressed in the form 6k ± 1.\n",
        "return False: If n is divisible by i or i + 2, it's not prime, so the function returns False.\n",
        "i += 6: If n is not divisible by i or i + 2, i is incremented by 6 to check the next pair of potential factors (6k + 5 and 6(k+1) + 1).\n",
        "return True: If the loop completes without finding any divisors, it means the number is prime, and the function returns True.\n",
        "# Example usage:: This is a comment indicating the following lines are examples of how to use the function.\n",
        "num = 17: Assigns the value 17 to the variable num.\n",
        "print(f\"{num} is prime: {is_prime(num)}\"): Calls the is_prime function with num (17) and prints whether it's prime using an f-string.\n",
        "num = 15: Assigns the value 15 to the variable num.\n",
        "print(f\"{num} is prime: {is_prime(num)}\"): Calls the is_prime function with num (15) and prints whether it's prime using an f-string.\n"
      ],
      "metadata": {
        "id": "ifHsSQT-iDwS"
      }
    },
    {
      "cell_type": "markdown",
      "source": [
        "task 4 : Task Description #4\n",
        "●\tInstall and configure Cursor AI. Use it to generate a Python function (e.g., sum of the first N natural numbers) and test its output.\n",
        "●\tOptionally, compare Cursor AI’s generated code with Gemini’s output.\n",
        "Expected Output #4\n",
        "●\tScreenshots of Cursor AI setup, prompts used, and generated code with output.\n",
        "prompt :  Python function (e.g., sum of the first N natural numbers) and test its output."
      ],
      "metadata": {
        "id": "yOY4eIRujN2R"
      }
    },
    {
      "cell_type": "code",
      "source": [
        "def sum_of_first_n_naturals(n):\n",
        "  \"\"\"\n",
        "  Calculates the sum of the first n natural numbers.\n",
        "\n",
        "  Args:\n",
        "    n: A positive integer.\n",
        "\n",
        "  Returns:\n",
        "    The sum of the first n natural numbers.\n",
        "  \"\"\"\n",
        "  if n < 1:\n",
        "    return 0  # Sum of no natural numbers is 0\n",
        "  else:\n",
        "    return n * (n + 1) // 2\n",
        "\n",
        "# Example usage:\n",
        "n1 = 10\n",
        "sum1 = sum_of_first_n_naturals(n1)\n",
        "print(f\"The sum of the first {n1} natural numbers is: {sum1}\")\n",
        "\n",
        "n2 = 5\n",
        "sum2 = sum_of_first_n_naturals(n2)\n",
        "print(f\"The sum of the first {n2} natural numbers is: {sum2}\")\n",
        "\n",
        "n3 = 0\n",
        "sum3 = sum_of_first_n_naturals(n3)\n",
        "print(f\"The sum of the first {n3} natural numbers is: {sum3}\")"
      ],
      "metadata": {
        "colab": {
          "base_uri": "https://localhost:8080/"
        },
        "id": "ellFXGhEjiuJ",
        "outputId": "363370a1-f8d0-4612-ec4d-25325b369d6b"
      },
      "execution_count": null,
      "outputs": [
        {
          "output_type": "stream",
          "name": "stdout",
          "text": [
            "The sum of the first 10 natural numbers is: 55\n",
            "The sum of the first 5 natural numbers is: 15\n",
            "The sum of the first 0 natural numbers is: 0\n"
          ]
        }
      ]
    },
    {
      "cell_type": "markdown",
      "source": [
        "explain : This code defines a Python function called sum_of_first_n_naturals that calculates the sum of the first n natural numbers.\n",
        "\n",
        "Here's a breakdown of the code:\n",
        "\n",
        "def sum_of_first_n_naturals(n):: This line defines the function named sum_of_first_n_naturals and specifies that it accepts one argument, n.\n",
        "Docstring: The triple-quoted string below the function definition is a docstring. It explains the purpose of the function, its arguments (Args), and what it returns (Returns).\n",
        "if n < 1:: This checks if the input number n is less than 1. Natural numbers are typically positive integers (1, 2, 3, ...). If n is less than 1, it means we're asked to sum zero or a negative number of natural numbers, in which case the sum is considered to be 0.\n",
        "return 0 # Sum of no natural numbers is 0: If the condition n < 1 is true, the function returns 0.\n",
        "else:: If the condition n < 1 is false (meaning n is 1 or greater), the code in this block is executed.\n",
        "return n * (n + 1) // 2: This is the core of the function. It uses the formula for the sum of the first n natural numbers, which is n * (n + 1) / 2. The // 2 ensures integer division.\n",
        "# Example usage:: This is a comment indicating the following lines are examples of how to use the function.\n",
        "n1 = 10: Assigns the value 10 to the variable n1.\n",
        "sum1 = sum_of_first_n_naturals(n1): Calls the sum_of_first_n_naturals function with n1 (10) and stores the returned sum in sum1.\n",
        "print(f\"The sum of the first {n1} natural numbers is: {sum1}\"): Prints the result for n1 using an f-string.\n",
        "n2 = 5: Assigns the value 5 to the variable n2.\n",
        "sum2 = sum_of_first_n_naturals(n2): Calls the function with n2 (5) and stores the result in sum2.\n",
        "print(f\"The sum of the first {n2} natural numbers is: {sum2}\"): Prints the result for n2.\n",
        "n3 = 0: Assigns the value 0 to the variable n3.\n",
        "sum3 = sum_of_first_n_naturals(n3): Calls the function with n3 (0) and stores the result in sum3.\n",
        "print(f\"The sum of the first {n3} natural numbers is: {sum3}\"): Prints the result for n3.\n",
        "This code efficiently calculates the sum of the first N natural numbers using a well-known mathematical formula.\n",
        "\n"
      ],
      "metadata": {
        "id": "dK0ysn8tkPEL"
      }
    },
    {
      "cell_type": "markdown",
      "source": [
        "task 5: Task Description #5\n",
        "●\tStudents need to write a Python program to calculate the sum of odd numbers and even numbers in a given tuple.\n",
        "●\tRefactor the code to improve logic and readability.\n",
        "Expected Output #5\n",
        "●\tStudent-written refactored code with explanations and output screenshots.\n",
        "prompt :  Python program to calculate the sum of odd numbers and even numbers in a given tuple.\n",
        "●\tRefactor the code to improve logic and readability.\n",
        "student need to write"
      ],
      "metadata": {
        "id": "ZACZkAq0lBqk"
      }
    },
    {
      "cell_type": "code",
      "source": [
        "# Original code (as if written by a student)\n",
        "my_tuple = (1, 2, 3, 4, 5, 6, 7, 8, 9, 10)\n",
        "odd_sum = 0\n",
        "even_sum = 0\n",
        "\n",
        "for number in my_tuple:\n",
        "  if number % 2 == 0:\n",
        "    even_sum = even_sum + number\n",
        "  else:\n",
        "    odd_sum = odd_sum + number\n",
        "\n",
        "print(f\"Original Code Output:\")\n",
        "print(f\"Tuple: {my_tuple}\")\n",
        "print(f\"Sum of odd numbers: {odd_sum}\")\n",
        "print(f\"Sum of even numbers: {even_sum}\")\n",
        "\n",
        "print(\"\\n\" + \"=\"*20 + \"\\n\") # Separator for clarity\n",
        "\n",
        "# Refactored code\n",
        "def calculate_odd_even_sums(numbers_tuple):\n",
        "  \"\"\"\n",
        "  Calculates the sum of odd and even numbers in a tuple.\n",
        "\n",
        "  Args:\n",
        "    numbers_tuple: A tuple of numbers.\n",
        "\n",
        "  Returns:\n",
        "    A tuple containing the sum of odd numbers and the sum of even numbers.\n",
        "  \"\"\"\n",
        "  odd_sum = 0\n",
        "  even_sum = 0\n",
        "  for number in numbers_tuple:\n",
        "    if number % 2 == 0:\n",
        "      even_sum += number\n",
        "    else:\n",
        "      odd_sum += number\n",
        "  return odd_sum, even_sum\n",
        "\n",
        "# Example usage of refactored code\n",
        "my_tuple_refactored = (1, 2, 3, 4, 5, 6, 7, 8, 9, 10)\n",
        "odd_sum_refactored, even_sum_refactored = calculate_odd_even_sums(my_tuple_refactored)\n",
        "\n",
        "print(f\"Refactored Code Output:\")\n",
        "print(f\"Tuple: {my_tuple_refactored}\")\n",
        "print(f\"Sum of odd numbers: {odd_sum_refactored}\")\n",
        "print(f\"Sum of even numbers: {even_sum_refactored}\")"
      ],
      "metadata": {
        "colab": {
          "base_uri": "https://localhost:8080/"
        },
        "id": "htGy-UPdle-o",
        "outputId": "5fa377d5-066e-4a40-addb-035f2c915725"
      },
      "execution_count": null,
      "outputs": [
        {
          "output_type": "stream",
          "name": "stdout",
          "text": [
            "Original Code Output:\n",
            "Tuple: (1, 2, 3, 4, 5, 6, 7, 8, 9, 10)\n",
            "Sum of odd numbers: 25\n",
            "Sum of even numbers: 30\n",
            "\n",
            "====================\n",
            "\n",
            "Refactored Code Output:\n",
            "Tuple: (1, 2, 3, 4, 5, 6, 7, 8, 9, 10)\n",
            "Sum of odd numbers: 25\n",
            "Sum of even numbers: 30\n"
          ]
        }
      ]
    },
    {
      "cell_type": "markdown",
      "source": [
        "EXPLATION : Certainly, I can explain the selected code snippet for you.\n",
        "\n",
        "This code calculates the sum of odd and even numbers within a tuple. Let's break it down:\n",
        "\n",
        "Original Code Section:\n",
        "\n",
        "my_tuple = (1, 2, 3, 4, 5, 6, 7, 8, 9, 10): This line initializes a tuple named my_tuple with integers from 1 to 10.\n",
        "odd_sum = 0 and even_sum = 0: These lines initialize two variables, odd_sum and even_sum, to 0. These variables will store the cumulative sum of odd and even numbers, respectively.\n",
        "for number in my_tuple:: This initiates a for loop that iterates through each element in the my_tuple. In each iteration, the current element is assigned to the variable number.\n",
        "if number % 2 == 0:: Inside the loop, this conditional statement checks if the current number is even. The modulo operator (%) returns the remainder of a division. If a number divided by 2 has a remainder of 0, it's an even number.\n",
        "even_sum = even_sum + number: If the number is even, its value is added to the even_sum.\n",
        "else:: If the condition in the if statement is false (meaning the number is not even, and therefore odd).\n",
        "odd_sum = odd_sum + number: If the number is odd, its value is added to the odd_sum.\n",
        "print(f\"Original Code Output:\"), print(f\"Tuple: {my_tuple}\"), print(f\"Sum of odd numbers: {odd_sum}\"), print(f\"Sum of even numbers: {even_sum}\"): These lines print the results from the original code section, showing the original tuple and the calculated sums of odd and even numbers.\n",
        "print(\"\\n\" + \"=\"*20 + \"\\n\"): This line prints a separator to visually distinguish the output of the original and refactored code sections.\n",
        "Refactored Code Section:\n",
        "\n",
        "def calculate_odd_even_sums(numbers_tuple):: This line defines a function named calculate_odd_even_sums that takes one argument, numbers_tuple, which is expected to be a tuple of numbers.\n",
        "\"\"\" ... \"\"\": This is a docstring that explains the purpose of the function, its arguments, and what it returns. This is good practice for code readability and understanding.\n",
        "odd_sum = 0 and even_sum = 0: Inside the function, these lines re-initialize odd_sum and even_sum to 0 for the calculation within the function's scope.\n",
        "for number in numbers_tuple:: Similar to the original code, this loop iterates through each element in the input numbers_tuple.\n",
        "if number % 2 == 0: and even_sum += number: This checks if the number is even and adds it to even_sum. The += is a shorthand for even_sum = even_sum + number.\n",
        "else: and odd_sum += number: If the number is odd, it's added to odd_sum.\n",
        "return odd_sum, even_sum: After the loop, the function returns a tuple containing the calculated odd_sum and even_sum.\n",
        "my_tuple_refactored = (1, 2, 3, 4, 5, 6, 7, 8, 9, 10): This line creates a sample tuple to demonstrate the usage of the refactored function.\n",
        "odd_sum_refactored, even_sum_refactored = calculate_odd_even_sums(my_tuple_refactored): This line calls the calculate_odd_even_sums function with my_tuple_refactored and unpacks the returned tuple into two variables, odd_sum_refactored and even_sum_refactored.\n",
        "print(f\"Refactored Code Output:\"), print(f\"Tuple: {my_tuple_refactored}\"), print(f\"Sum of odd numbers: {odd_sum_refactored}\"), print(f\"Sum of even numbers: {even_sum_refactored}\"): These lines print the results from the refactored code section, showing the tuple used and the calculated sums of odd and even numbers."
      ],
      "metadata": {
        "id": "45FSgUm0By0L"
      }
    }
  ]
}